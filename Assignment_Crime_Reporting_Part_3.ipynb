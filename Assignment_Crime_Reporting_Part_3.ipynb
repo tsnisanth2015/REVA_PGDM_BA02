{
 "cells": [
  {
   "cell_type": "code",
   "execution_count": 1,
   "metadata": {
    "collapsed": true
   },
   "outputs": [],
   "source": [
    "import pandas as pd"
   ]
  },
  {
   "cell_type": "code",
   "execution_count": 2,
   "metadata": {
    "collapsed": true
   },
   "outputs": [],
   "source": [
    "df = pd.read_csv('C:\\Program Files\\Python36\\Crime_Sample.txt')"
   ]
  },
  {
   "cell_type": "code",
   "execution_count": 3,
   "metadata": {
    "collapsed": true
   },
   "outputs": [],
   "source": [
    "df['Date'] = pd.to_datetime(df.Date)"
   ]
  },
  {
   "cell_type": "code",
   "execution_count": 4,
   "metadata": {
    "collapsed": true
   },
   "outputs": [],
   "source": [
    "df['Day']  = df.Date.dt.day"
   ]
  },
  {
   "cell_type": "code",
   "execution_count": 5,
   "metadata": {
    "collapsed": true
   },
   "outputs": [],
   "source": [
    "df['Time']  = df.Date.dt.time"
   ]
  },
  {
   "cell_type": "code",
   "execution_count": 6,
   "metadata": {
    "collapsed": true
   },
   "outputs": [],
   "source": [
    "# Primary Type - Nature of crime, Location Description"
   ]
  },
  {
   "cell_type": "code",
   "execution_count": 7,
   "metadata": {
    "collapsed": true
   },
   "outputs": [],
   "source": [
    "subset = df[['Day','Time','District','Primary Type','Location Description']]"
   ]
  },
  {
   "cell_type": "code",
   "execution_count": 8,
   "metadata": {},
   "outputs": [
    {
     "name": "stderr",
     "output_type": "stream",
     "text": [
      "C:\\Users\\dell 7548\\Anaconda3\\lib\\site-packages\\pandas\\core\\frame.py:2844: SettingWithCopyWarning: \n",
      "A value is trying to be set on a copy of a slice from a DataFrame\n",
      "\n",
      "See the caveats in the documentation: http://pandas.pydata.org/pandas-docs/stable/indexing.html#indexing-view-versus-copy\n",
      "  **kwargs)\n"
     ]
    }
   ],
   "source": [
    "subset.rename(columns = {'Primary Type':'Primary_Type'},inplace=True)"
   ]
  },
  {
   "cell_type": "code",
   "execution_count": 9,
   "metadata": {},
   "outputs": [
    {
     "name": "stderr",
     "output_type": "stream",
     "text": [
      "C:\\Users\\dell 7548\\Anaconda3\\lib\\site-packages\\pandas\\core\\frame.py:2844: SettingWithCopyWarning: \n",
      "A value is trying to be set on a copy of a slice from a DataFrame\n",
      "\n",
      "See the caveats in the documentation: http://pandas.pydata.org/pandas-docs/stable/indexing.html#indexing-view-versus-copy\n",
      "  **kwargs)\n"
     ]
    }
   ],
   "source": [
    "subset.rename(columns = {'Location Description':'Location_Description'},inplace=True)"
   ]
  },
  {
   "cell_type": "code",
   "execution_count": 10,
   "metadata": {},
   "outputs": [
    {
     "data": {
      "text/html": [
       "<div>\n",
       "<style>\n",
       "    .dataframe thead tr:only-child th {\n",
       "        text-align: right;\n",
       "    }\n",
       "\n",
       "    .dataframe thead th {\n",
       "        text-align: left;\n",
       "    }\n",
       "\n",
       "    .dataframe tbody tr th {\n",
       "        vertical-align: top;\n",
       "    }\n",
       "</style>\n",
       "<table border=\"1\" class=\"dataframe\">\n",
       "  <thead>\n",
       "    <tr style=\"text-align: right;\">\n",
       "      <th></th>\n",
       "      <th>Day</th>\n",
       "      <th>Time</th>\n",
       "      <th>District</th>\n",
       "      <th>Primary_Type</th>\n",
       "      <th>Location_Description</th>\n",
       "    </tr>\n",
       "  </thead>\n",
       "  <tbody>\n",
       "    <tr>\n",
       "      <th>0</th>\n",
       "      <td>1</td>\n",
       "      <td>01:00:00</td>\n",
       "      <td>18</td>\n",
       "      <td>BATTERY</td>\n",
       "      <td>BAR OR TAVERN</td>\n",
       "    </tr>\n",
       "    <tr>\n",
       "      <th>1</th>\n",
       "      <td>1</td>\n",
       "      <td>01:23:00</td>\n",
       "      <td>6</td>\n",
       "      <td>PUBLIC PEACE VIOLATION</td>\n",
       "      <td>SIDEWALK</td>\n",
       "    </tr>\n",
       "    <tr>\n",
       "      <th>2</th>\n",
       "      <td>1</td>\n",
       "      <td>00:01:00</td>\n",
       "      <td>3</td>\n",
       "      <td>CRIMINAL DAMAGE</td>\n",
       "      <td>RESIDENCE</td>\n",
       "    </tr>\n",
       "    <tr>\n",
       "      <th>3</th>\n",
       "      <td>1</td>\n",
       "      <td>01:00:00</td>\n",
       "      <td>10</td>\n",
       "      <td>BATTERY</td>\n",
       "      <td>STREET</td>\n",
       "    </tr>\n",
       "    <tr>\n",
       "      <th>4</th>\n",
       "      <td>1</td>\n",
       "      <td>01:45:00</td>\n",
       "      <td>19</td>\n",
       "      <td>CRIMINAL DAMAGE</td>\n",
       "      <td>RESIDENCE PORCH/HALLWAY</td>\n",
       "    </tr>\n",
       "  </tbody>\n",
       "</table>\n",
       "</div>"
      ],
      "text/plain": [
       "   Day      Time  District            Primary_Type     Location_Description\n",
       "0    1  01:00:00        18                 BATTERY            BAR OR TAVERN\n",
       "1    1  01:23:00         6  PUBLIC PEACE VIOLATION                 SIDEWALK\n",
       "2    1  00:01:00         3         CRIMINAL DAMAGE                RESIDENCE\n",
       "3    1  01:00:00        10                 BATTERY                   STREET\n",
       "4    1  01:45:00        19         CRIMINAL DAMAGE  RESIDENCE PORCH/HALLWAY"
      ]
     },
     "execution_count": 10,
     "metadata": {},
     "output_type": "execute_result"
    }
   ],
   "source": [
    "subset.head()"
   ]
  },
  {
   "cell_type": "code",
   "execution_count": 11,
   "metadata": {},
   "outputs": [
    {
     "data": {
      "text/plain": [
       "Day  Time      Primary_Type         Location_Description          \n",
       "1    00:00:00  BATTERY              APARTMENT                         2\n",
       "               CRIM SEXUAL ASSAULT  RESIDENCE                         1\n",
       "               CRIMINAL DAMAGE      ALLEY                             1\n",
       "                                    HOSPITAL BUILDING/GROUNDS         1\n",
       "                                    RESIDENCE                         1\n",
       "                                    RESIDENCE-GARAGE                  1\n",
       "                                    STREET                            1\n",
       "               OTHER OFFENSE        STREET                            1\n",
       "               THEFT                BAR OR TAVERN                     1\n",
       "                                    STREET                            1\n",
       "                                    VEHICLE NON-COMMERCIAL            1\n",
       "     00:01:00  CRIM SEXUAL ASSAULT  OTHER                             1\n",
       "               CRIMINAL DAMAGE      ALLEY                             2\n",
       "                                    APARTMENT                         1\n",
       "                                    RESIDENCE                         1\n",
       "                                    RESIDENTIAL YARD (FRONT/BACK)     1\n",
       "                                    STREET                            1\n",
       "               MOTOR VEHICLE THEFT  STREET                            1\n",
       "               OTHER OFFENSE        APARTMENT                         1\n",
       "               THEFT                BAR OR TAVERN                     2\n",
       "                                    PARK PROPERTY                     1\n",
       "                                    VEHICLE NON-COMMERCIAL            1\n",
       "     00:04:00  CRIMINAL DAMAGE      RESIDENCE                         1\n",
       "     00:05:00  BATTERY              RESIDENCE                         1\n",
       "               CRIMINAL DAMAGE      PARKING LOT/GARAGE(NON.RESID.)    1\n",
       "                                    RESIDENCE                         2\n",
       "               DECEPTIVE PRACTICE   OTHER                             1\n",
       "               THEFT                STREET                            1\n",
       "     00:10:00  BATTERY              HOTEL/MOTEL                       1\n",
       "               CRIMINAL DAMAGE      RESIDENCE                         1\n",
       "                                                                     ..\n",
       "29   21:49:00  HOMICIDE             STREET                            1\n",
       "     23:17:00  HOMICIDE             STREET                            1\n",
       "     23:30:00  HOMICIDE             YARD                              1\n",
       "30   00:52:00  HOMICIDE             HOUSE                             1\n",
       "     03:40:00  HOMICIDE             STREET                            1\n",
       "     03:54:00  HOMICIDE             STREET                            1\n",
       "     03:58:00  HOMICIDE             STREET                            1\n",
       "     04:32:00  HOMICIDE             RESTAURANT                        1\n",
       "     08:12:00  HOMICIDE             AUTO                              1\n",
       "     10:51:00  HOMICIDE             AUTO                              1\n",
       "     12:27:00  HOMICIDE             HOUSE                             1\n",
       "     14:25:00  HOMICIDE             AUTO                              1\n",
       "     15:25:00  HOMICIDE             ALLEY                             1\n",
       "     16:32:00  HOMICIDE             RESTAURANT                        3\n",
       "     16:53:00  HOMICIDE             ALLEY                             1\n",
       "     20:07:00  HOMICIDE             APARTMENT                         1\n",
       "     20:54:00  HOMICIDE             ALLEY                             1\n",
       "     21:22:00  HOMICIDE             AUTO                              1\n",
       "     21:33:00  HOMICIDE             PORCH                             1\n",
       "     21:37:00  HOMICIDE             PORCH                             1\n",
       "31   00:57:00  HOMICIDE             YARD                              1\n",
       "     01:49:00  HOMICIDE             AUTO                              1\n",
       "     01:50:00  HOMICIDE             AUTO                              1\n",
       "     03:20:00  HOMICIDE             STREET                            1\n",
       "     07:03:00  HOMICIDE             STREET                            1\n",
       "     12:33:00  HOMICIDE             AUTO                              1\n",
       "     16:55:00  HOMICIDE             STREET                            2\n",
       "     17:12:00  HOMICIDE             STREET                            1\n",
       "     20:02:00  HOMICIDE             ALLEY                             1\n",
       "     21:20:00  HOMICIDE             STREET                            1\n",
       "Name: District, Length: 2843, dtype: int64"
      ]
     },
     "execution_count": 11,
     "metadata": {},
     "output_type": "execute_result"
    }
   ],
   "source": [
    "grouped = subset.groupby(['Day','Time','Primary_Type','Location_Description']).District.count()\n",
    "grouped"
   ]
  },
  {
   "cell_type": "code",
   "execution_count": 12,
   "metadata": {
    "collapsed": true
   },
   "outputs": [],
   "source": [
    "group_byloc = subset.groupby(['Location_Description']).District.count()"
   ]
  },
  {
   "cell_type": "code",
   "execution_count": 13,
   "metadata": {},
   "outputs": [
    {
     "data": {
      "text/plain": [
       "Location_Description\n",
       "ABANDONED BUILDING                                   3\n",
       "AIRPORT BUILDING NON-TERMINAL - NON-SECURE AREA      2\n",
       "AIRPORT PARKING LOT                                  2\n",
       "AIRPORT TERMINAL LOWER LEVEL - NON-SECURE AREA       1\n",
       "AIRPORT TERMINAL UPPER LEVEL - NON-SECURE AREA       1\n",
       "AIRPORT TERMINAL UPPER LEVEL - SECURE AREA           3\n",
       "AIRPORT VENDING ESTABLISHMENT                        1\n",
       "ALLEY                                              104\n",
       "ANIMAL HOSPITAL                                      1\n",
       "APARTMENT                                          387\n",
       "APPLIANCE STORE                                      1\n",
       "ATHLETIC CLUB                                       15\n",
       "ATM (AUTOMATIC TELLER MACHINE)                       1\n",
       "AUTO                                                62\n",
       "BANK                                                 7\n",
       "BAR OR TAVERN                                       32\n",
       "BARBERSHOP                                           4\n",
       "CAR WASH                                             2\n",
       "CHA APARTMENT                                       12\n",
       "CHA HALLWAY                                          1\n",
       "CHA HALLWAY/STAIRWELL/ELEVATOR                       3\n",
       "CHA PARKING LOT                                      4\n",
       "CHA PARKING LOT/GROUNDS                              1\n",
       "CHURCH                                               2\n",
       "CHURCH/SYNAGOGUE/PLACE OF WORSHIP                    3\n",
       "CLUB                                                 1\n",
       "COIN OPERATED MACHINE                                1\n",
       "COLLEGE/UNIVERSITY GROUNDS                           2\n",
       "COMMERCIAL / BUSINESS OFFICE                        11\n",
       "CONSTRUCTION SITE                                    2\n",
       "                                                  ... \n",
       "POLICE FACILITY/VEH PARKING LOT                      3\n",
       "POOL ROOM                                            3\n",
       "PORCH                                               17\n",
       "RESIDENCE                                          440\n",
       "RESIDENCE PORCH/HALLWAY                             35\n",
       "RESIDENCE-GARAGE                                    50\n",
       "RESIDENTIAL YARD (FRONT/BACK)                       45\n",
       "RESTAURANT                                          67\n",
       "RETAIL STORE                                         1\n",
       "SCHOOL YARD                                          2\n",
       "SCHOOL, PRIVATE, BUILDING                            1\n",
       "SCHOOL, PUBLIC, BUILDING                             3\n",
       "SCHOOL, PUBLIC, GROUNDS                              1\n",
       "SIDEWALK                                           172\n",
       "SMALL RETAIL STORE                                  53\n",
       "SPORTS ARENA/STADIUM                                 3\n",
       "STAIRWELL                                            2\n",
       "STREET                                             889\n",
       "TAVERN                                               1\n",
       "TAVERN/LIQUOR STORE                                  2\n",
       "TAXICAB                                              6\n",
       "VACANT LOT                                           2\n",
       "VACANT LOT/LAND                                      5\n",
       "VEHICLE - DELIVERY TRUCK                             1\n",
       "VEHICLE - OTHER RIDE SERVICE                         1\n",
       "VEHICLE NON-COMMERCIAL                              34\n",
       "VEHICLE-COMMERCIAL                                   1\n",
       "VESTIBULE                                            1\n",
       "WAREHOUSE                                            3\n",
       "YARD                                                16\n",
       "Name: District, Length: 94, dtype: int64"
      ]
     },
     "execution_count": 13,
     "metadata": {},
     "output_type": "execute_result"
    }
   ],
   "source": [
    "group_byloc"
   ]
  },
  {
   "cell_type": "code",
   "execution_count": 14,
   "metadata": {},
   "outputs": [
    {
     "data": {
      "text/plain": [
       "889"
      ]
     },
     "execution_count": 14,
     "metadata": {},
     "output_type": "execute_result"
    }
   ],
   "source": [
    "group_byloc.max()"
   ]
  },
  {
   "cell_type": "code",
   "execution_count": 15,
   "metadata": {},
   "outputs": [
    {
     "data": {
      "text/plain": [
       "31.904255319148938"
      ]
     },
     "execution_count": 15,
     "metadata": {},
     "output_type": "execute_result"
    }
   ],
   "source": [
    "group_byloc.mean()"
   ]
  },
  {
   "cell_type": "code",
   "execution_count": 16,
   "metadata": {
    "collapsed": true
   },
   "outputs": [],
   "source": [
    "group_by_primtype = subset.groupby(['Primary_Type']).District.count()"
   ]
  },
  {
   "cell_type": "code",
   "execution_count": 17,
   "metadata": {},
   "outputs": [
    {
     "data": {
      "text/plain": [
       "Primary_Type\n",
       "ARSON                                  5\n",
       "ASSAULT                              175\n",
       "BATTERY                              537\n",
       "BURGLARY                             108\n",
       "CONCEALED CARRY LICENSE VIOLATION      4\n",
       "CRIM SEXUAL ASSAULT                   12\n",
       "CRIMINAL DAMAGE                      320\n",
       "CRIMINAL TRESPASS                     72\n",
       "DECEPTIVE PRACTICE                   115\n",
       "HOMICIDE                             497\n",
       "INTERFERENCE WITH PUBLIC OFFICER       8\n",
       "INTIMIDATION                           1\n",
       "KIDNAPPING                             1\n",
       "MOTOR VEHICLE THEFT                  137\n",
       "NARCOTICS                             96\n",
       "OFFENSE INVOLVING CHILDREN            13\n",
       "OTHER OFFENSE                        166\n",
       "PROSTITUTION                           2\n",
       "PUBLIC PEACE VIOLATION                14\n",
       "ROBBERY                              146\n",
       "SEX OFFENSE                            6\n",
       "STALKING                               2\n",
       "THEFT                                528\n",
       "WEAPONS VIOLATION                     35\n",
       "Name: District, dtype: int64"
      ]
     },
     "execution_count": 17,
     "metadata": {},
     "output_type": "execute_result"
    }
   ],
   "source": [
    "group_by_primtype"
   ]
  },
  {
   "cell_type": "code",
   "execution_count": 18,
   "metadata": {
    "collapsed": true
   },
   "outputs": [],
   "source": [
    "group_by_timeofday = subset.groupby(['Day','Time']).District.count()"
   ]
  },
  {
   "cell_type": "code",
   "execution_count": 19,
   "metadata": {},
   "outputs": [
    {
     "data": {
      "text/plain": [
       "Day  Time    \n",
       "1    00:00:00    12\n",
       "     00:01:00    13\n",
       "     00:04:00     1\n",
       "     00:05:00     6\n",
       "     00:10:00     3\n",
       "     00:13:00     1\n",
       "     00:15:00     3\n",
       "     00:18:00     1\n",
       "     00:20:00     1\n",
       "     00:22:00     1\n",
       "     00:24:00     1\n",
       "     00:30:00     7\n",
       "     00:35:00     2\n",
       "     00:36:00     1\n",
       "     00:38:00     1\n",
       "     00:40:00     1\n",
       "     00:41:00     3\n",
       "     00:42:00     1\n",
       "     00:45:00     2\n",
       "     00:48:00     1\n",
       "     00:50:00     3\n",
       "     00:51:00     1\n",
       "     00:55:00     1\n",
       "     00:57:00     1\n",
       "     01:00:00    25\n",
       "     01:04:00     1\n",
       "     01:05:00     1\n",
       "     01:06:00     1\n",
       "     01:10:00     4\n",
       "     01:13:00     1\n",
       "                 ..\n",
       "29   21:49:00     1\n",
       "     23:17:00     1\n",
       "     23:30:00     1\n",
       "30   00:52:00     1\n",
       "     03:40:00     1\n",
       "     03:54:00     1\n",
       "     03:58:00     1\n",
       "     04:32:00     1\n",
       "     08:12:00     1\n",
       "     10:51:00     1\n",
       "     12:27:00     1\n",
       "     14:25:00     1\n",
       "     15:25:00     1\n",
       "     16:32:00     3\n",
       "     16:53:00     1\n",
       "     20:07:00     1\n",
       "     20:54:00     1\n",
       "     21:22:00     1\n",
       "     21:33:00     1\n",
       "     21:37:00     1\n",
       "31   00:57:00     1\n",
       "     01:49:00     1\n",
       "     01:50:00     1\n",
       "     03:20:00     1\n",
       "     07:03:00     1\n",
       "     12:33:00     1\n",
       "     16:55:00     2\n",
       "     17:12:00     1\n",
       "     20:02:00     1\n",
       "     21:20:00     1\n",
       "Name: District, Length: 1746, dtype: int64"
      ]
     },
     "execution_count": 19,
     "metadata": {},
     "output_type": "execute_result"
    }
   ],
   "source": [
    "group_by_timeofday"
   ]
  },
  {
   "cell_type": "code",
   "execution_count": 20,
   "metadata": {},
   "outputs": [
    {
     "data": {
      "text/plain": [
       "25"
      ]
     },
     "execution_count": 20,
     "metadata": {},
     "output_type": "execute_result"
    }
   ],
   "source": [
    "group_by_timeofday.max()"
   ]
  },
  {
   "cell_type": "code",
   "execution_count": 21,
   "metadata": {},
   "outputs": [
    {
     "data": {
      "text/plain": [
       "Index(['Day', 'Time', 'District', 'Primary_Type', 'Location_Description'], dtype='object')"
      ]
     },
     "execution_count": 21,
     "metadata": {},
     "output_type": "execute_result"
    }
   ],
   "source": [
    "subset.columns"
   ]
  },
  {
   "cell_type": "code",
   "execution_count": 22,
   "metadata": {},
   "outputs": [
    {
     "data": {
      "text/plain": [
       "count       2999\n",
       "unique        94\n",
       "top       STREET\n",
       "freq         889\n",
       "Name: Location_Description, dtype: object"
      ]
     },
     "execution_count": 22,
     "metadata": {},
     "output_type": "execute_result"
    }
   ],
   "source": [
    "subset.Location_Description.describe()"
   ]
  },
  {
   "cell_type": "code",
   "execution_count": 23,
   "metadata": {},
   "outputs": [
    {
     "data": {
      "text/plain": [
       "count        3000\n",
       "unique         24\n",
       "top       BATTERY\n",
       "freq          537\n",
       "Name: Primary_Type, dtype: object"
      ]
     },
     "execution_count": 23,
     "metadata": {},
     "output_type": "execute_result"
    }
   ],
   "source": [
    "subset.Primary_Type.describe()"
   ]
  },
  {
   "cell_type": "code",
   "execution_count": 24,
   "metadata": {},
   "outputs": [
    {
     "data": {
      "text/plain": [
       "count         3000\n",
       "unique         883\n",
       "top       12:00:00\n",
       "freq            51\n",
       "Name: Time, dtype: object"
      ]
     },
     "execution_count": 24,
     "metadata": {},
     "output_type": "execute_result"
    }
   ],
   "source": [
    "subset.Time.describe()"
   ]
  },
  {
   "cell_type": "code",
   "execution_count": 25,
   "metadata": {
    "collapsed": true
   },
   "outputs": [],
   "source": [
    "#Insights:\n",
    "#1.Most crimes happen at STREET (889).Average no of crimes is 32\n",
    "#2.Most common form of crime is BATTERY(537)\n",
    "#3 Most of the crimes happen at 12:00(51)"
   ]
  },
  {
   "cell_type": "code",
   "execution_count": 26,
   "metadata": {},
   "outputs": [
    {
     "data": {
      "text/plain": [
       "12:00:00    51\n",
       "01:00:00    45\n",
       "16:00:00    44\n",
       "18:00:00    42\n",
       "17:00:00    40\n",
       "20:00:00    37\n",
       "15:00:00    36\n",
       "02:00:00    35\n",
       "19:00:00    35\n",
       "13:00:00    33\n",
       "21:00:00    33\n",
       "14:00:00    30\n",
       "11:00:00    30\n",
       "03:00:00    30\n",
       "13:30:00    30\n",
       "08:00:00    29\n",
       "22:00:00    28\n",
       "09:00:00    28\n",
       "10:00:00    27\n",
       "14:30:00    24\n",
       "12:30:00    24\n",
       "07:00:00    24\n",
       "04:00:00    24\n",
       "23:00:00    23\n",
       "23:30:00    22\n",
       "00:01:00    22\n",
       "11:30:00    21\n",
       "00:00:00    21\n",
       "06:00:00    20\n",
       "20:30:00    20\n",
       "            ..\n",
       "06:24:00     1\n",
       "18:32:00     1\n",
       "17:21:00     1\n",
       "02:36:00     1\n",
       "06:39:00     1\n",
       "15:27:00     1\n",
       "19:04:00     1\n",
       "15:09:00     1\n",
       "19:37:00     1\n",
       "00:14:00     1\n",
       "13:04:00     1\n",
       "05:41:00     1\n",
       "13:18:00     1\n",
       "12:59:00     1\n",
       "00:22:00     1\n",
       "23:42:00     1\n",
       "20:09:00     1\n",
       "03:53:00     1\n",
       "22:02:00     1\n",
       "01:26:00     1\n",
       "13:23:00     1\n",
       "16:28:00     1\n",
       "22:27:00     1\n",
       "18:13:00     1\n",
       "21:34:00     1\n",
       "21:47:00     1\n",
       "02:01:00     1\n",
       "08:48:00     1\n",
       "15:46:00     1\n",
       "08:34:00     1\n",
       "Name: Time, Length: 883, dtype: int64"
      ]
     },
     "execution_count": 26,
     "metadata": {},
     "output_type": "execute_result"
    }
   ],
   "source": [
    "subset.Time.value_counts()"
   ]
  },
  {
   "cell_type": "code",
   "execution_count": 27,
   "metadata": {},
   "outputs": [
    {
     "data": {
      "text/plain": [
       "STREET                                            889\n",
       "RESIDENCE                                         440\n",
       "APARTMENT                                         387\n",
       "SIDEWALK                                          172\n",
       "ALLEY                                             104\n",
       "OTHER                                              88\n",
       "PARKING LOT/GARAGE(NON.RESID.)                     84\n",
       "RESTAURANT                                         67\n",
       "AUTO                                               62\n",
       "GAS STATION                                        53\n",
       "SMALL RETAIL STORE                                 53\n",
       "RESIDENCE-GARAGE                                   50\n",
       "RESIDENTIAL YARD (FRONT/BACK)                      45\n",
       "RESIDENCE PORCH/HALLWAY                            35\n",
       "DEPARTMENT STORE                                   35\n",
       "VEHICLE NON-COMMERCIAL                             34\n",
       "BAR OR TAVERN                                      32\n",
       "GROCERY FOOD STORE                                 27\n",
       "HOTEL/MOTEL                                        23\n",
       "CONVENIENCE STORE                                  21\n",
       "HOUSE                                              17\n",
       "PORCH                                              17\n",
       "CTA TRAIN                                          16\n",
       "YARD                                               16\n",
       "ATHLETIC CLUB                                      15\n",
       "DRUG STORE                                         12\n",
       "CHA APARTMENT                                      12\n",
       "COMMERCIAL / BUSINESS OFFICE                       11\n",
       "HOSPITAL BUILDING/GROUNDS                          10\n",
       "CTA BUS                                            10\n",
       "                                                 ... \n",
       "CURRENCY EXCHANGE                                   2\n",
       "CAR WASH                                            2\n",
       "STAIRWELL                                           2\n",
       "TAVERN/LIQUOR STORE                                 2\n",
       "DRIVEWAY                                            2\n",
       "MOVIE HOUSE/THEATER                                 1\n",
       "HALLWAY                                             1\n",
       "VEHICLE - DELIVERY TRUCK                            1\n",
       "VEHICLE-COMMERCIAL                                  1\n",
       "NURSING HOME                                        1\n",
       "CLUB                                                1\n",
       "SCHOOL, PUBLIC, GROUNDS                             1\n",
       "COIN OPERATED MACHINE                               1\n",
       "AIRPORT TERMINAL LOWER LEVEL - NON-SECURE AREA      1\n",
       "RETAIL STORE                                        1\n",
       "ANIMAL HOSPITAL                                     1\n",
       "APPLIANCE STORE                                     1\n",
       "HIGHWAY/EXPRESSWAY                                  1\n",
       "ATM (AUTOMATIC TELLER MACHINE)                      1\n",
       "TAVERN                                              1\n",
       "AIRPORT TERMINAL UPPER LEVEL - NON-SECURE AREA      1\n",
       "VESTIBULE                                           1\n",
       "GAS STATION DRIVE/PROP.                             1\n",
       "AIRPORT VENDING ESTABLISHMENT                       1\n",
       "CTA \"L\" PLATFORM                                    1\n",
       "VEHICLE - OTHER RIDE SERVICE                        1\n",
       "CTA PROPERTY                                        1\n",
       "CHA PARKING LOT/GROUNDS                             1\n",
       "CHA HALLWAY                                         1\n",
       "SCHOOL, PRIVATE, BUILDING                           1\n",
       "Name: Location_Description, Length: 94, dtype: int64"
      ]
     },
     "execution_count": 27,
     "metadata": {},
     "output_type": "execute_result"
    }
   ],
   "source": [
    "subset.Location_Description.value_counts()"
   ]
  },
  {
   "cell_type": "code",
   "execution_count": 28,
   "metadata": {},
   "outputs": [
    {
     "data": {
      "text/plain": [
       "BATTERY                              537\n",
       "THEFT                                528\n",
       "HOMICIDE                             497\n",
       "CRIMINAL DAMAGE                      320\n",
       "ASSAULT                              175\n",
       "OTHER OFFENSE                        166\n",
       "ROBBERY                              146\n",
       "MOTOR VEHICLE THEFT                  137\n",
       "DECEPTIVE PRACTICE                   115\n",
       "BURGLARY                             108\n",
       "NARCOTICS                             96\n",
       "CRIMINAL TRESPASS                     72\n",
       "WEAPONS VIOLATION                     35\n",
       "PUBLIC PEACE VIOLATION                14\n",
       "OFFENSE INVOLVING CHILDREN            13\n",
       "CRIM SEXUAL ASSAULT                   12\n",
       "INTERFERENCE WITH PUBLIC OFFICER       8\n",
       "SEX OFFENSE                            6\n",
       "ARSON                                  5\n",
       "CONCEALED CARRY LICENSE VIOLATION      4\n",
       "STALKING                               2\n",
       "PROSTITUTION                           2\n",
       "INTIMIDATION                           1\n",
       "KIDNAPPING                             1\n",
       "Name: Primary_Type, dtype: int64"
      ]
     },
     "execution_count": 28,
     "metadata": {},
     "output_type": "execute_result"
    }
   ],
   "source": [
    "subset.Primary_Type.value_counts()"
   ]
  },
  {
   "cell_type": "code",
   "execution_count": 29,
   "metadata": {
    "collapsed": true
   },
   "outputs": [],
   "source": [
    "%matplotlib inline"
   ]
  },
  {
   "cell_type": "code",
   "execution_count": 30,
   "metadata": {},
   "outputs": [
    {
     "data": {
      "text/plain": [
       "<matplotlib.axes._subplots.AxesSubplot at 0x65e29e6748>"
      ]
     },
     "execution_count": 30,
     "metadata": {},
     "output_type": "execute_result"
    },
    {
     "data": {
      "image/png": "[encoded data removed]",
      "text/plain": [
       "<matplotlib.figure.Figure at 0x65e29b2d68>"
      ]
     },
     "metadata": {},
     "output_type": "display_data"
    }
   ],
   "source": [
    "subset.Primary_Type.value_counts().plot(kind='bar')"
   ]
  },
  {
   "cell_type": "code",
   "execution_count": null,
   "metadata": {
    "collapsed": true
   },
   "outputs": [],
   "source": []
  }
 ],
 "metadata": {
  "kernelspec": {
   "display_name": "Python 3",
   "language": "python",
   "name": "python3"
  },
  "language_info": {
   "codemirror_mode": {
    "name": "ipython",
    "version": 3
   },
   "file_extension": ".py",
   "mimetype": "text/x-python",
   "name": "python",
   "nbconvert_exporter": "python",
   "pygments_lexer": "ipython3",
   "version": "3.6.1"
  }
 },
 "nbformat": 4,
 "nbformat_minor": 2
}
