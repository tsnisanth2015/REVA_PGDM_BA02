{
 "cells": [
  {
   "cell_type": "code",
   "execution_count": 1,
   "metadata": {
    "collapsed": true
   },
   "outputs": [],
   "source": [
    "#Import csv and sqlite libraries\n",
    "import csv,sqlite3\n",
    "import numpy as np\n",
    "import matplotlib.pyplot as plt\n",
    "import seaborn as sns\n",
    "color = sns.color_palette()"
   ]
  },
  {
   "cell_type": "code",
   "execution_count": 14,
   "metadata": {
    "collapsed": true
   },
   "outputs": [],
   "source": [
    "#Connect to the local DB\n",
    "con = sqlite3.connect(\"D:\\\\Nisanth_DB.db\")"
   ]
  },
  {
   "cell_type": "code",
   "execution_count": 15,
   "metadata": {
    "collapsed": true
   },
   "outputs": [],
   "source": [
    "#Create the cursor object\n",
    "cur = con.cursor()"
   ]
  },
  {
   "cell_type": "code",
   "execution_count": 4,
   "metadata": {
    "collapsed": true
   },
   "outputs": [],
   "source": [
    "#Import pandas library\n",
    "import pandas as pd"
   ]
  },
  {
   "cell_type": "code",
   "execution_count": 5,
   "metadata": {
    "collapsed": true
   },
   "outputs": [],
   "source": [
    "#Read the csv file\n",
    "df1 = pd.read_csv(\"D:\\\\OnlineRetail2Sample.csv\")"
   ]
  },
  {
   "cell_type": "code",
   "execution_count": 6,
   "metadata": {
    "collapsed": true
   },
   "outputs": [],
   "source": [
    "#Convert the file read to dataframe\n",
    "df2 = pd.DataFrame(df1)"
   ]
  },
  {
   "cell_type": "code",
   "execution_count": 7,
   "metadata": {},
   "outputs": [
    {
     "data": {
      "text/plain": [
       "InvoiceNo      object\n",
       "StockCode      object\n",
       "Quantity        int64\n",
       "DoP            object\n",
       "UnitPrice     float64\n",
       "CustomerID      int64\n",
       "Country        object\n",
       "dtype: object"
      ]
     },
     "execution_count": 7,
     "metadata": {},
     "output_type": "execute_result"
    }
   ],
   "source": [
    "df2.dtypes"
   ]
  },
  {
   "cell_type": "code",
   "execution_count": 8,
   "metadata": {
    "collapsed": true
   },
   "outputs": [],
   "source": [
    "#Convert the date variable from object to datetime type\n",
    "df2['DoP'] = pd.to_datetime(df2.DoP)"
   ]
  },
  {
   "cell_type": "code",
   "execution_count": 9,
   "metadata": {},
   "outputs": [
    {
     "data": {
      "text/html": [
       "<div>\n",
       "<style>\n",
       "    .dataframe thead tr:only-child th {\n",
       "        text-align: right;\n",
       "    }\n",
       "\n",
       "    .dataframe thead th {\n",
       "        text-align: left;\n",
       "    }\n",
       "\n",
       "    .dataframe tbody tr th {\n",
       "        vertical-align: top;\n",
       "    }\n",
       "</style>\n",
       "<table border=\"1\" class=\"dataframe\">\n",
       "  <thead>\n",
       "    <tr style=\"text-align: right;\">\n",
       "      <th></th>\n",
       "      <th>InvoiceNo</th>\n",
       "      <th>StockCode</th>\n",
       "      <th>Quantity</th>\n",
       "      <th>DoP</th>\n",
       "      <th>UnitPrice</th>\n",
       "      <th>CustomerID</th>\n",
       "      <th>Country</th>\n",
       "    </tr>\n",
       "  </thead>\n",
       "  <tbody>\n",
       "    <tr>\n",
       "      <th>0</th>\n",
       "      <td>536365</td>\n",
       "      <td>85123A</td>\n",
       "      <td>6</td>\n",
       "      <td>2010-12-01</td>\n",
       "      <td>2.55</td>\n",
       "      <td>17850</td>\n",
       "      <td>United Kingdom</td>\n",
       "    </tr>\n",
       "    <tr>\n",
       "      <th>1</th>\n",
       "      <td>536365</td>\n",
       "      <td>71053</td>\n",
       "      <td>6</td>\n",
       "      <td>2010-12-01</td>\n",
       "      <td>3.39</td>\n",
       "      <td>17850</td>\n",
       "      <td>United Kingdom</td>\n",
       "    </tr>\n",
       "    <tr>\n",
       "      <th>2</th>\n",
       "      <td>536365</td>\n",
       "      <td>84406B</td>\n",
       "      <td>8</td>\n",
       "      <td>2010-12-01</td>\n",
       "      <td>2.75</td>\n",
       "      <td>17850</td>\n",
       "      <td>United Kingdom</td>\n",
       "    </tr>\n",
       "    <tr>\n",
       "      <th>3</th>\n",
       "      <td>536365</td>\n",
       "      <td>84029G</td>\n",
       "      <td>6</td>\n",
       "      <td>2010-12-01</td>\n",
       "      <td>3.39</td>\n",
       "      <td>17850</td>\n",
       "      <td>United Kingdom</td>\n",
       "    </tr>\n",
       "    <tr>\n",
       "      <th>4</th>\n",
       "      <td>536365</td>\n",
       "      <td>84029E</td>\n",
       "      <td>6</td>\n",
       "      <td>2010-12-01</td>\n",
       "      <td>3.39</td>\n",
       "      <td>17850</td>\n",
       "      <td>United Kingdom</td>\n",
       "    </tr>\n",
       "  </tbody>\n",
       "</table>\n",
       "</div>"
      ],
      "text/plain": [
       "  InvoiceNo StockCode  Quantity        DoP  UnitPrice  CustomerID  \\\n",
       "0    536365    85123A         6 2010-12-01       2.55       17850   \n",
       "1    536365     71053         6 2010-12-01       3.39       17850   \n",
       "2    536365    84406B         8 2010-12-01       2.75       17850   \n",
       "3    536365    84029G         6 2010-12-01       3.39       17850   \n",
       "4    536365    84029E         6 2010-12-01       3.39       17850   \n",
       "\n",
       "          Country  \n",
       "0  United Kingdom  \n",
       "1  United Kingdom  \n",
       "2  United Kingdom  \n",
       "3  United Kingdom  \n",
       "4  United Kingdom  "
      ]
     },
     "execution_count": 9,
     "metadata": {},
     "output_type": "execute_result"
    }
   ],
   "source": [
    "df2.head()"
   ]
  },
  {
   "cell_type": "code",
   "execution_count": 10,
   "metadata": {},
   "outputs": [
    {
     "data": {
      "text/plain": [
       "InvoiceNo             object\n",
       "StockCode             object\n",
       "Quantity               int64\n",
       "DoP           datetime64[ns]\n",
       "UnitPrice            float64\n",
       "CustomerID             int64\n",
       "Country               object\n",
       "dtype: object"
      ]
     },
     "execution_count": 10,
     "metadata": {},
     "output_type": "execute_result"
    }
   ],
   "source": [
    "df2.dtypes"
   ]
  },
  {
   "cell_type": "code",
   "execution_count": 11,
   "metadata": {
    "collapsed": true
   },
   "outputs": [],
   "source": [
    "#Save the formatted data in a csv format\n",
    "df2.to_csv(\"D:\\\\Retail_DtStd.csv\", encoding='utf-8')"
   ]
  },
  {
   "cell_type": "code",
   "execution_count": 12,
   "metadata": {
    "collapsed": true
   },
   "outputs": [],
   "source": [
    "#Code to load data from csv file into sql database\n",
    "with open('D:\\\\Retail_DtStd.csv','r+') as fin:\n",
    "    dr = csv.DictReader(fin)\n",
    "    to_db = [(i['InvoiceNo'], i['StockCode'], i['Quantity'], i['DoP'], i['UnitPrice'], i['CustomerID'], i['Country']) for i in dr]\n",
    "\n",
    "cur.executemany(\"INSERT INTO RFMDM (InvoiceNo,StockCode,Quantity,DoP,UnitPrice,CustomerID,Country) VALUES (?,?,?,?,?,?,?);\",to_db)\n",
    "con.commit()\n",
    "con.close()"
   ]
  },
  {
   "cell_type": "code",
   "execution_count": 16,
   "metadata": {},
   "outputs": [],
   "source": [
    "#Read the RFMSeg table (CAR DM)\n",
    "data1 = pd.read_sql_query(\"select * from RFMSeg;\", con)"
   ]
  },
  {
   "cell_type": "code",
   "execution_count": 17,
   "metadata": {
    "collapsed": true
   },
   "outputs": [],
   "source": [
    "df3 = pd.DataFrame(data1)"
   ]
  },
  {
   "cell_type": "code",
   "execution_count": 18,
   "metadata": {},
   "outputs": [
    {
     "data": {
      "text/plain": [
       "(4372, 8)"
      ]
     },
     "execution_count": 18,
     "metadata": {},
     "output_type": "execute_result"
    }
   ],
   "source": [
    "df3.shape"
   ]
  },
  {
   "cell_type": "code",
   "execution_count": 19,
   "metadata": {},
   "outputs": [
    {
     "data": {
      "text/html": [
       "<div>\n",
       "<style>\n",
       "    .dataframe thead tr:only-child th {\n",
       "        text-align: right;\n",
       "    }\n",
       "\n",
       "    .dataframe thead th {\n",
       "        text-align: left;\n",
       "    }\n",
       "\n",
       "    .dataframe tbody tr th {\n",
       "        vertical-align: top;\n",
       "    }\n",
       "</style>\n",
       "<table border=\"1\" class=\"dataframe\">\n",
       "  <thead>\n",
       "    <tr style=\"text-align: right;\">\n",
       "      <th></th>\n",
       "      <th>CustomerID</th>\n",
       "      <th>RDate</th>\n",
       "      <th>Frequency</th>\n",
       "      <th>Product</th>\n",
       "      <th>TDate</th>\n",
       "      <th>Monetary</th>\n",
       "      <th>Recency</th>\n",
       "      <th>Tenure</th>\n",
       "    </tr>\n",
       "  </thead>\n",
       "  <tbody>\n",
       "    <tr>\n",
       "      <th>0</th>\n",
       "      <td>12346</td>\n",
       "      <td>2011-01-18</td>\n",
       "      <td>2</td>\n",
       "      <td>1</td>\n",
       "      <td>2011-01-18</td>\n",
       "      <td>0.00</td>\n",
       "      <td>0</td>\n",
       "      <td>0</td>\n",
       "    </tr>\n",
       "    <tr>\n",
       "      <th>1</th>\n",
       "      <td>12347</td>\n",
       "      <td>2011-12-07</td>\n",
       "      <td>7</td>\n",
       "      <td>103</td>\n",
       "      <td>2010-12-07</td>\n",
       "      <td>4310.00</td>\n",
       "      <td>0</td>\n",
       "      <td>1</td>\n",
       "    </tr>\n",
       "    <tr>\n",
       "      <th>2</th>\n",
       "      <td>12348</td>\n",
       "      <td>2011-09-25</td>\n",
       "      <td>4</td>\n",
       "      <td>22</td>\n",
       "      <td>2010-12-16</td>\n",
       "      <td>1797.24</td>\n",
       "      <td>0</td>\n",
       "      <td>1</td>\n",
       "    </tr>\n",
       "    <tr>\n",
       "      <th>3</th>\n",
       "      <td>12349</td>\n",
       "      <td>2011-11-21</td>\n",
       "      <td>1</td>\n",
       "      <td>73</td>\n",
       "      <td>2011-11-21</td>\n",
       "      <td>1757.55</td>\n",
       "      <td>0</td>\n",
       "      <td>0</td>\n",
       "    </tr>\n",
       "    <tr>\n",
       "      <th>4</th>\n",
       "      <td>12350</td>\n",
       "      <td>2011-02-02</td>\n",
       "      <td>1</td>\n",
       "      <td>17</td>\n",
       "      <td>2011-02-02</td>\n",
       "      <td>334.40</td>\n",
       "      <td>0</td>\n",
       "      <td>0</td>\n",
       "    </tr>\n",
       "  </tbody>\n",
       "</table>\n",
       "</div>"
      ],
      "text/plain": [
       "  CustomerID       RDate  Frequency  Product       TDate  Monetary  Recency  \\\n",
       "0      12346  2011-01-18          2        1  2011-01-18      0.00        0   \n",
       "1      12347  2011-12-07          7      103  2010-12-07   4310.00        0   \n",
       "2      12348  2011-09-25          4       22  2010-12-16   1797.24        0   \n",
       "3      12349  2011-11-21          1       73  2011-11-21   1757.55        0   \n",
       "4      12350  2011-02-02          1       17  2011-02-02    334.40        0   \n",
       "\n",
       "   Tenure  \n",
       "0       0  \n",
       "1       1  \n",
       "2       1  \n",
       "3       0  \n",
       "4       0  "
      ]
     },
     "execution_count": 19,
     "metadata": {},
     "output_type": "execute_result"
    }
   ],
   "source": [
    "df3.head()"
   ]
  },
  {
   "cell_type": "code",
   "execution_count": 20,
   "metadata": {},
   "outputs": [
    {
     "data": {
      "text/plain": [
       "0       0\n",
       "1       1\n",
       "2       1\n",
       "3       0\n",
       "4       0\n",
       "5       0\n",
       "6       0\n",
       "7       0\n",
       "8       0\n",
       "9       0\n",
       "10      0\n",
       "11      0\n",
       "12      0\n",
       "13      0\n",
       "14      0\n",
       "15      0\n",
       "16      0\n",
       "17      0\n",
       "18      0\n",
       "19      0\n",
       "20      1\n",
       "21      0\n",
       "22      0\n",
       "23      0\n",
       "24      0\n",
       "25      0\n",
       "26      1\n",
       "27      0\n",
       "28      0\n",
       "29      0\n",
       "       ..\n",
       "4342    1\n",
       "4343    0\n",
       "4344    0\n",
       "4345    0\n",
       "4346    0\n",
       "4347    0\n",
       "4348    0\n",
       "4349    0\n",
       "4350    1\n",
       "4351    0\n",
       "4352    1\n",
       "4353    1\n",
       "4354    0\n",
       "4355    0\n",
       "4356    0\n",
       "4357    0\n",
       "4358    0\n",
       "4359    1\n",
       "4360    0\n",
       "4361    0\n",
       "4362    0\n",
       "4363    0\n",
       "4364    0\n",
       "4365    0\n",
       "4366    0\n",
       "4367    0\n",
       "4368    0\n",
       "4369    0\n",
       "4370    0\n",
       "4371    0\n",
       "Name: Tenure, Length: 4372, dtype: int64"
      ]
     },
     "execution_count": 20,
     "metadata": {},
     "output_type": "execute_result"
    }
   ],
   "source": [
    "#Dropping Recency and Tenure from SQL since the calculation is not correct\n",
    "df3.pop('Recency')\n",
    "df3.pop('Tenure')"
   ]
  },
  {
   "cell_type": "code",
   "execution_count": 21,
   "metadata": {
    "collapsed": true
   },
   "outputs": [],
   "source": [
    "#Set the maxdate as '2011-12-30'\n",
    "df3['Max_Date'] = '2011-12-30'"
   ]
  },
  {
   "cell_type": "code",
   "execution_count": 22,
   "metadata": {
    "collapsed": true
   },
   "outputs": [],
   "source": [
    "#Convert max date, RDate and TDate to datetime formats\n",
    "df3['Max_Date'] = pd.to_datetime(df3.Max_Date)\n",
    "df3['RDate'] = pd.to_datetime(df3.RDate)\n",
    "df3['TDate'] = pd.to_datetime(df3.TDate)\n"
   ]
  },
  {
   "cell_type": "code",
   "execution_count": 23,
   "metadata": {},
   "outputs": [
    {
     "data": {
      "text/html": [
       "<div>\n",
       "<style>\n",
       "    .dataframe thead tr:only-child th {\n",
       "        text-align: right;\n",
       "    }\n",
       "\n",
       "    .dataframe thead th {\n",
       "        text-align: left;\n",
       "    }\n",
       "\n",
       "    .dataframe tbody tr th {\n",
       "        vertical-align: top;\n",
       "    }\n",
       "</style>\n",
       "<table border=\"1\" class=\"dataframe\">\n",
       "  <thead>\n",
       "    <tr style=\"text-align: right;\">\n",
       "      <th></th>\n",
       "      <th>Frequency</th>\n",
       "      <th>Product</th>\n",
       "      <th>Monetary</th>\n",
       "    </tr>\n",
       "  </thead>\n",
       "  <tbody>\n",
       "    <tr>\n",
       "      <th>count</th>\n",
       "      <td>4372.000000</td>\n",
       "      <td>4372.000000</td>\n",
       "      <td>4372.000000</td>\n",
       "    </tr>\n",
       "    <tr>\n",
       "      <th>mean</th>\n",
       "      <td>5.075480</td>\n",
       "      <td>61.211116</td>\n",
       "      <td>1898.459700</td>\n",
       "    </tr>\n",
       "    <tr>\n",
       "      <th>std</th>\n",
       "      <td>9.338754</td>\n",
       "      <td>85.425119</td>\n",
       "      <td>8219.345141</td>\n",
       "    </tr>\n",
       "    <tr>\n",
       "      <th>min</th>\n",
       "      <td>1.000000</td>\n",
       "      <td>1.000000</td>\n",
       "      <td>-4287.630000</td>\n",
       "    </tr>\n",
       "    <tr>\n",
       "      <th>25%</th>\n",
       "      <td>1.000000</td>\n",
       "      <td>15.000000</td>\n",
       "      <td>293.362500</td>\n",
       "    </tr>\n",
       "    <tr>\n",
       "      <th>50%</th>\n",
       "      <td>3.000000</td>\n",
       "      <td>35.000000</td>\n",
       "      <td>648.075000</td>\n",
       "    </tr>\n",
       "    <tr>\n",
       "      <th>75%</th>\n",
       "      <td>5.000000</td>\n",
       "      <td>77.000000</td>\n",
       "      <td>1611.725000</td>\n",
       "    </tr>\n",
       "    <tr>\n",
       "      <th>max</th>\n",
       "      <td>248.000000</td>\n",
       "      <td>1794.000000</td>\n",
       "      <td>279489.020000</td>\n",
       "    </tr>\n",
       "  </tbody>\n",
       "</table>\n",
       "</div>"
      ],
      "text/plain": [
       "         Frequency      Product       Monetary\n",
       "count  4372.000000  4372.000000    4372.000000\n",
       "mean      5.075480    61.211116    1898.459700\n",
       "std       9.338754    85.425119    8219.345141\n",
       "min       1.000000     1.000000   -4287.630000\n",
       "25%       1.000000    15.000000     293.362500\n",
       "50%       3.000000    35.000000     648.075000\n",
       "75%       5.000000    77.000000    1611.725000\n",
       "max     248.000000  1794.000000  279489.020000"
      ]
     },
     "execution_count": 23,
     "metadata": {},
     "output_type": "execute_result"
    }
   ],
   "source": [
    "df3.describe()"
   ]
  },
  {
   "cell_type": "code",
   "execution_count": 24,
   "metadata": {
    "collapsed": true
   },
   "outputs": [],
   "source": [
    "#Calculate Recency\n",
    "df3['Recency'] = df3['Max_Date'].sub(df3['RDate'], axis=0)"
   ]
  },
  {
   "cell_type": "code",
   "execution_count": 25,
   "metadata": {
    "collapsed": true
   },
   "outputs": [],
   "source": [
    "#Convert Recency to number type\n",
    "import numpy as np\n",
    "df3['Recency'] = df3['Recency'] / np.timedelta64(1, 'D')"
   ]
  },
  {
   "cell_type": "code",
   "execution_count": 26,
   "metadata": {
    "collapsed": true
   },
   "outputs": [],
   "source": [
    "#calculate Tenure\n",
    "df3['Tenure'] = df3['Max_Date'].sub(df3['TDate'], axis=0)"
   ]
  },
  {
   "cell_type": "code",
   "execution_count": 27,
   "metadata": {
    "collapsed": true
   },
   "outputs": [],
   "source": [
    "#Convert Tenure to numeric type\n",
    "df3['Tenure'] = df3['Tenure'] / np.timedelta64(1, 'D')"
   ]
  },
  {
   "cell_type": "code",
   "execution_count": 28,
   "metadata": {},
   "outputs": [
    {
     "data": {
      "text/html": [
       "<div>\n",
       "<style>\n",
       "    .dataframe thead tr:only-child th {\n",
       "        text-align: right;\n",
       "    }\n",
       "\n",
       "    .dataframe thead th {\n",
       "        text-align: left;\n",
       "    }\n",
       "\n",
       "    .dataframe tbody tr th {\n",
       "        vertical-align: top;\n",
       "    }\n",
       "</style>\n",
       "<table border=\"1\" class=\"dataframe\">\n",
       "  <thead>\n",
       "    <tr style=\"text-align: right;\">\n",
       "      <th></th>\n",
       "      <th>CustomerID</th>\n",
       "      <th>RDate</th>\n",
       "      <th>Frequency</th>\n",
       "      <th>Product</th>\n",
       "      <th>TDate</th>\n",
       "      <th>Monetary</th>\n",
       "      <th>Max_Date</th>\n",
       "      <th>Recency</th>\n",
       "      <th>Tenure</th>\n",
       "    </tr>\n",
       "  </thead>\n",
       "  <tbody>\n",
       "    <tr>\n",
       "      <th>0</th>\n",
       "      <td>12346</td>\n",
       "      <td>2011-01-18</td>\n",
       "      <td>2</td>\n",
       "      <td>1</td>\n",
       "      <td>2011-01-18</td>\n",
       "      <td>0.00</td>\n",
       "      <td>2011-12-30</td>\n",
       "      <td>346.0</td>\n",
       "      <td>346.0</td>\n",
       "    </tr>\n",
       "    <tr>\n",
       "      <th>1</th>\n",
       "      <td>12347</td>\n",
       "      <td>2011-12-07</td>\n",
       "      <td>7</td>\n",
       "      <td>103</td>\n",
       "      <td>2010-12-07</td>\n",
       "      <td>4310.00</td>\n",
       "      <td>2011-12-30</td>\n",
       "      <td>23.0</td>\n",
       "      <td>388.0</td>\n",
       "    </tr>\n",
       "    <tr>\n",
       "      <th>2</th>\n",
       "      <td>12348</td>\n",
       "      <td>2011-09-25</td>\n",
       "      <td>4</td>\n",
       "      <td>22</td>\n",
       "      <td>2010-12-16</td>\n",
       "      <td>1797.24</td>\n",
       "      <td>2011-12-30</td>\n",
       "      <td>96.0</td>\n",
       "      <td>379.0</td>\n",
       "    </tr>\n",
       "    <tr>\n",
       "      <th>3</th>\n",
       "      <td>12349</td>\n",
       "      <td>2011-11-21</td>\n",
       "      <td>1</td>\n",
       "      <td>73</td>\n",
       "      <td>2011-11-21</td>\n",
       "      <td>1757.55</td>\n",
       "      <td>2011-12-30</td>\n",
       "      <td>39.0</td>\n",
       "      <td>39.0</td>\n",
       "    </tr>\n",
       "    <tr>\n",
       "      <th>4</th>\n",
       "      <td>12350</td>\n",
       "      <td>2011-02-02</td>\n",
       "      <td>1</td>\n",
       "      <td>17</td>\n",
       "      <td>2011-02-02</td>\n",
       "      <td>334.40</td>\n",
       "      <td>2011-12-30</td>\n",
       "      <td>331.0</td>\n",
       "      <td>331.0</td>\n",
       "    </tr>\n",
       "  </tbody>\n",
       "</table>\n",
       "</div>"
      ],
      "text/plain": [
       "  CustomerID      RDate  Frequency  Product      TDate  Monetary   Max_Date  \\\n",
       "0      12346 2011-01-18          2        1 2011-01-18      0.00 2011-12-30   \n",
       "1      12347 2011-12-07          7      103 2010-12-07   4310.00 2011-12-30   \n",
       "2      12348 2011-09-25          4       22 2010-12-16   1797.24 2011-12-30   \n",
       "3      12349 2011-11-21          1       73 2011-11-21   1757.55 2011-12-30   \n",
       "4      12350 2011-02-02          1       17 2011-02-02    334.40 2011-12-30   \n",
       "\n",
       "   Recency  Tenure  \n",
       "0    346.0   346.0  \n",
       "1     23.0   388.0  \n",
       "2     96.0   379.0  \n",
       "3     39.0    39.0  \n",
       "4    331.0   331.0  "
      ]
     },
     "execution_count": 28,
     "metadata": {},
     "output_type": "execute_result"
    }
   ],
   "source": [
    "df3.head()"
   ]
  },
  {
   "cell_type": "code",
   "execution_count": 29,
   "metadata": {
    "collapsed": true
   },
   "outputs": [],
   "source": [
    "#Assign the Recency score to transactions by bucketing the Recency values, 5 being the highest and 1 lowest\n",
    "def f(row):\n",
    "    if row['Recency'] < 60:\n",
    "        val = 5\n",
    "    elif row['Recency'] <= 120 and row['Recency'] >= 60:\n",
    "        val = 4\n",
    "    elif row['Recency'] <= 180 and row['Recency'] >= 120:\n",
    "        val = 3\n",
    "    elif row['Recency'] <= 210 and row['Recency'] >= 180:\n",
    "        val = 2\n",
    "    else:\n",
    "        val = 1\n",
    "    return val\n",
    "\n",
    "df3['Recency_Score'] = df3.apply(f, axis = 1)"
   ]
  },
  {
   "cell_type": "code",
   "execution_count": 30,
   "metadata": {},
   "outputs": [
    {
     "data": {
      "text/html": [
       "<div>\n",
       "<style>\n",
       "    .dataframe thead tr:only-child th {\n",
       "        text-align: right;\n",
       "    }\n",
       "\n",
       "    .dataframe thead th {\n",
       "        text-align: left;\n",
       "    }\n",
       "\n",
       "    .dataframe tbody tr th {\n",
       "        vertical-align: top;\n",
       "    }\n",
       "</style>\n",
       "<table border=\"1\" class=\"dataframe\">\n",
       "  <thead>\n",
       "    <tr style=\"text-align: right;\">\n",
       "      <th></th>\n",
       "      <th>CustomerID</th>\n",
       "      <th>RDate</th>\n",
       "      <th>Frequency</th>\n",
       "      <th>Product</th>\n",
       "      <th>TDate</th>\n",
       "      <th>Monetary</th>\n",
       "      <th>Max_Date</th>\n",
       "      <th>Recency</th>\n",
       "      <th>Tenure</th>\n",
       "      <th>Recency_Score</th>\n",
       "    </tr>\n",
       "  </thead>\n",
       "  <tbody>\n",
       "    <tr>\n",
       "      <th>0</th>\n",
       "      <td>12346</td>\n",
       "      <td>2011-01-18</td>\n",
       "      <td>2</td>\n",
       "      <td>1</td>\n",
       "      <td>2011-01-18</td>\n",
       "      <td>0.00</td>\n",
       "      <td>2011-12-30</td>\n",
       "      <td>346.0</td>\n",
       "      <td>346.0</td>\n",
       "      <td>1</td>\n",
       "    </tr>\n",
       "    <tr>\n",
       "      <th>1</th>\n",
       "      <td>12347</td>\n",
       "      <td>2011-12-07</td>\n",
       "      <td>7</td>\n",
       "      <td>103</td>\n",
       "      <td>2010-12-07</td>\n",
       "      <td>4310.00</td>\n",
       "      <td>2011-12-30</td>\n",
       "      <td>23.0</td>\n",
       "      <td>388.0</td>\n",
       "      <td>5</td>\n",
       "    </tr>\n",
       "    <tr>\n",
       "      <th>2</th>\n",
       "      <td>12348</td>\n",
       "      <td>2011-09-25</td>\n",
       "      <td>4</td>\n",
       "      <td>22</td>\n",
       "      <td>2010-12-16</td>\n",
       "      <td>1797.24</td>\n",
       "      <td>2011-12-30</td>\n",
       "      <td>96.0</td>\n",
       "      <td>379.0</td>\n",
       "      <td>4</td>\n",
       "    </tr>\n",
       "    <tr>\n",
       "      <th>3</th>\n",
       "      <td>12349</td>\n",
       "      <td>2011-11-21</td>\n",
       "      <td>1</td>\n",
       "      <td>73</td>\n",
       "      <td>2011-11-21</td>\n",
       "      <td>1757.55</td>\n",
       "      <td>2011-12-30</td>\n",
       "      <td>39.0</td>\n",
       "      <td>39.0</td>\n",
       "      <td>5</td>\n",
       "    </tr>\n",
       "    <tr>\n",
       "      <th>4</th>\n",
       "      <td>12350</td>\n",
       "      <td>2011-02-02</td>\n",
       "      <td>1</td>\n",
       "      <td>17</td>\n",
       "      <td>2011-02-02</td>\n",
       "      <td>334.40</td>\n",
       "      <td>2011-12-30</td>\n",
       "      <td>331.0</td>\n",
       "      <td>331.0</td>\n",
       "      <td>1</td>\n",
       "    </tr>\n",
       "  </tbody>\n",
       "</table>\n",
       "</div>"
      ],
      "text/plain": [
       "  CustomerID      RDate  Frequency  Product      TDate  Monetary   Max_Date  \\\n",
       "0      12346 2011-01-18          2        1 2011-01-18      0.00 2011-12-30   \n",
       "1      12347 2011-12-07          7      103 2010-12-07   4310.00 2011-12-30   \n",
       "2      12348 2011-09-25          4       22 2010-12-16   1797.24 2011-12-30   \n",
       "3      12349 2011-11-21          1       73 2011-11-21   1757.55 2011-12-30   \n",
       "4      12350 2011-02-02          1       17 2011-02-02    334.40 2011-12-30   \n",
       "\n",
       "   Recency  Tenure  Recency_Score  \n",
       "0    346.0   346.0              1  \n",
       "1     23.0   388.0              5  \n",
       "2     96.0   379.0              4  \n",
       "3     39.0    39.0              5  \n",
       "4    331.0   331.0              1  "
      ]
     },
     "execution_count": 30,
     "metadata": {},
     "output_type": "execute_result"
    }
   ],
   "source": [
    "df3.head()"
   ]
  },
  {
   "cell_type": "code",
   "execution_count": 31,
   "metadata": {},
   "outputs": [
    {
     "data": {
      "image/png": "[encoded data removed]",
      "text/plain": [
       "<matplotlib.figure.Figure at 0x17679fc3470>"
      ]
     },
     "metadata": {},
     "output_type": "display_data"
    }
   ],
   "source": [
    "#Plot the frequency of Recency Score\n",
    "plt.figure(figsize=(12,8))\n",
    "sns.countplot(x=\"Recency_Score\", data=df3, color=color[1])\n",
    "plt.ylabel('Count', fontsize=12)\n",
    "plt.xlabel('Recency_Score', fontsize=12)\n",
    "plt.xticks(rotation='vertical')\n",
    "plt.title(\"Frequency of Recency_Score\", fontsize=15)\n",
    "plt.show()"
   ]
  },
  {
   "cell_type": "code",
   "execution_count": 32,
   "metadata": {},
   "outputs": [
    {
     "data": {
      "text/html": [
       "<div>\n",
       "<style>\n",
       "    .dataframe thead tr:only-child th {\n",
       "        text-align: right;\n",
       "    }\n",
       "\n",
       "    .dataframe thead th {\n",
       "        text-align: left;\n",
       "    }\n",
       "\n",
       "    .dataframe tbody tr th {\n",
       "        vertical-align: top;\n",
       "    }\n",
       "</style>\n",
       "<table border=\"1\" class=\"dataframe\">\n",
       "  <thead>\n",
       "    <tr style=\"text-align: right;\">\n",
       "      <th></th>\n",
       "      <th>Frequency_Band</th>\n",
       "    </tr>\n",
       "  </thead>\n",
       "  <tbody>\n",
       "    <tr>\n",
       "      <th>0</th>\n",
       "      <td>(0.999, 13.8]</td>\n",
       "    </tr>\n",
       "    <tr>\n",
       "      <th>39</th>\n",
       "      <td>(13.8, 26.6]</td>\n",
       "    </tr>\n",
       "    <tr>\n",
       "      <th>100</th>\n",
       "      <td>(40.4, 62.2]</td>\n",
       "    </tr>\n",
       "    <tr>\n",
       "      <th>103</th>\n",
       "      <td>(26.6, 40.4]</td>\n",
       "    </tr>\n",
       "    <tr>\n",
       "      <th>330</th>\n",
       "      <td>(62.2, 248.0]</td>\n",
       "    </tr>\n",
       "  </tbody>\n",
       "</table>\n",
       "</div>"
      ],
      "text/plain": [
       "    Frequency_Band\n",
       "0    (0.999, 13.8]\n",
       "39    (13.8, 26.6]\n",
       "100   (40.4, 62.2]\n",
       "103   (26.6, 40.4]\n",
       "330  (62.2, 248.0]"
      ]
     },
     "execution_count": 32,
     "metadata": {},
     "output_type": "execute_result"
    }
   ],
   "source": [
    "#Create Bins for Frequency values\n",
    "unique_freq = df3[['Frequency']].drop_duplicates()\n",
    "unique_freq['Frequency_Band'] = pd.qcut(unique_freq['Frequency'], 5)\n",
    "unique_freq = unique_freq[['Frequency_Band']].drop_duplicates()\n",
    "unique_freq"
   ]
  },
  {
   "cell_type": "code",
   "execution_count": 33,
   "metadata": {
    "collapsed": true
   },
   "outputs": [],
   "source": [
    "#Assign the frequency score to transactions by binning the Frequency values, 5 being the highest and 1 lowest\n",
    "def f(row):\n",
    "    if row['Frequency'] <= 13.8:\n",
    "        val = 1\n",
    "    elif row['Frequency'] > 13.8 and row['Frequency'] <= 26.6:\n",
    "        val = 2\n",
    "    elif row['Frequency'] > 26.6 and row['Frequency'] <= 40.4:\n",
    "        val = 3\n",
    "    elif row['Frequency'] > 40.4 and row['Frequency'] <= 62.2:\n",
    "        val = 4\n",
    "    else:\n",
    "        val = 5\n",
    "    return val\n",
    "\n",
    "df3['Frequency_Score'] = df3.apply(f, axis = 1)"
   ]
  },
  {
   "cell_type": "code",
   "execution_count": 34,
   "metadata": {},
   "outputs": [
    {
     "data": {
      "text/html": [
       "<div>\n",
       "<style>\n",
       "    .dataframe thead tr:only-child th {\n",
       "        text-align: right;\n",
       "    }\n",
       "\n",
       "    .dataframe thead th {\n",
       "        text-align: left;\n",
       "    }\n",
       "\n",
       "    .dataframe tbody tr th {\n",
       "        vertical-align: top;\n",
       "    }\n",
       "</style>\n",
       "<table border=\"1\" class=\"dataframe\">\n",
       "  <thead>\n",
       "    <tr style=\"text-align: right;\">\n",
       "      <th></th>\n",
       "      <th>CustomerID</th>\n",
       "      <th>RDate</th>\n",
       "      <th>Frequency</th>\n",
       "      <th>Product</th>\n",
       "      <th>TDate</th>\n",
       "      <th>Monetary</th>\n",
       "      <th>Max_Date</th>\n",
       "      <th>Recency</th>\n",
       "      <th>Tenure</th>\n",
       "      <th>Recency_Score</th>\n",
       "      <th>Frequency_Score</th>\n",
       "    </tr>\n",
       "  </thead>\n",
       "  <tbody>\n",
       "    <tr>\n",
       "      <th>0</th>\n",
       "      <td>12346</td>\n",
       "      <td>2011-01-18</td>\n",
       "      <td>2</td>\n",
       "      <td>1</td>\n",
       "      <td>2011-01-18</td>\n",
       "      <td>0.00</td>\n",
       "      <td>2011-12-30</td>\n",
       "      <td>346.0</td>\n",
       "      <td>346.0</td>\n",
       "      <td>1</td>\n",
       "      <td>1</td>\n",
       "    </tr>\n",
       "    <tr>\n",
       "      <th>1</th>\n",
       "      <td>12347</td>\n",
       "      <td>2011-12-07</td>\n",
       "      <td>7</td>\n",
       "      <td>103</td>\n",
       "      <td>2010-12-07</td>\n",
       "      <td>4310.00</td>\n",
       "      <td>2011-12-30</td>\n",
       "      <td>23.0</td>\n",
       "      <td>388.0</td>\n",
       "      <td>5</td>\n",
       "      <td>1</td>\n",
       "    </tr>\n",
       "    <tr>\n",
       "      <th>2</th>\n",
       "      <td>12348</td>\n",
       "      <td>2011-09-25</td>\n",
       "      <td>4</td>\n",
       "      <td>22</td>\n",
       "      <td>2010-12-16</td>\n",
       "      <td>1797.24</td>\n",
       "      <td>2011-12-30</td>\n",
       "      <td>96.0</td>\n",
       "      <td>379.0</td>\n",
       "      <td>4</td>\n",
       "      <td>1</td>\n",
       "    </tr>\n",
       "    <tr>\n",
       "      <th>3</th>\n",
       "      <td>12349</td>\n",
       "      <td>2011-11-21</td>\n",
       "      <td>1</td>\n",
       "      <td>73</td>\n",
       "      <td>2011-11-21</td>\n",
       "      <td>1757.55</td>\n",
       "      <td>2011-12-30</td>\n",
       "      <td>39.0</td>\n",
       "      <td>39.0</td>\n",
       "      <td>5</td>\n",
       "      <td>1</td>\n",
       "    </tr>\n",
       "    <tr>\n",
       "      <th>4</th>\n",
       "      <td>12350</td>\n",
       "      <td>2011-02-02</td>\n",
       "      <td>1</td>\n",
       "      <td>17</td>\n",
       "      <td>2011-02-02</td>\n",
       "      <td>334.40</td>\n",
       "      <td>2011-12-30</td>\n",
       "      <td>331.0</td>\n",
       "      <td>331.0</td>\n",
       "      <td>1</td>\n",
       "      <td>1</td>\n",
       "    </tr>\n",
       "  </tbody>\n",
       "</table>\n",
       "</div>"
      ],
      "text/plain": [
       "  CustomerID      RDate  Frequency  Product      TDate  Monetary   Max_Date  \\\n",
       "0      12346 2011-01-18          2        1 2011-01-18      0.00 2011-12-30   \n",
       "1      12347 2011-12-07          7      103 2010-12-07   4310.00 2011-12-30   \n",
       "2      12348 2011-09-25          4       22 2010-12-16   1797.24 2011-12-30   \n",
       "3      12349 2011-11-21          1       73 2011-11-21   1757.55 2011-12-30   \n",
       "4      12350 2011-02-02          1       17 2011-02-02    334.40 2011-12-30   \n",
       "\n",
       "   Recency  Tenure  Recency_Score  Frequency_Score  \n",
       "0    346.0   346.0              1                1  \n",
       "1     23.0   388.0              5                1  \n",
       "2     96.0   379.0              4                1  \n",
       "3     39.0    39.0              5                1  \n",
       "4    331.0   331.0              1                1  "
      ]
     },
     "execution_count": 34,
     "metadata": {},
     "output_type": "execute_result"
    }
   ],
   "source": [
    "df3.head()"
   ]
  },
  {
   "cell_type": "code",
   "execution_count": 35,
   "metadata": {},
   "outputs": [
    {
     "data": {
      "image/png": "[encoded data removed]",
      "text/plain": [
       "<matplotlib.figure.Figure at 0x1767a208780>"
      ]
     },
     "metadata": {},
     "output_type": "display_data"
    }
   ],
   "source": [
    "#Plot the count of frequency Score\n",
    "plt.figure(figsize=(12,8))\n",
    "sns.countplot(x=\"Frequency_Score\", data=df3, color=color[1])\n",
    "plt.ylabel('Count', fontsize=12)\n",
    "plt.xlabel('Frequency_Score', fontsize=12)\n",
    "plt.xticks(rotation='vertical')\n",
    "plt.title(\"Frequency of Frequency_Score\", fontsize=15)\n",
    "plt.show()"
   ]
  },
  {
   "cell_type": "code",
   "execution_count": 36,
   "metadata": {},
   "outputs": [
    {
     "data": {
      "text/html": [
       "<div>\n",
       "<style>\n",
       "    .dataframe thead tr:only-child th {\n",
       "        text-align: right;\n",
       "    }\n",
       "\n",
       "    .dataframe thead th {\n",
       "        text-align: left;\n",
       "    }\n",
       "\n",
       "    .dataframe tbody tr th {\n",
       "        vertical-align: top;\n",
       "    }\n",
       "</style>\n",
       "<table border=\"1\" class=\"dataframe\">\n",
       "  <thead>\n",
       "    <tr style=\"text-align: right;\">\n",
       "      <th></th>\n",
       "      <th>Monetary_Band</th>\n",
       "    </tr>\n",
       "  </thead>\n",
       "  <tbody>\n",
       "    <tr>\n",
       "      <th>1</th>\n",
       "      <td>(2058.07, 279489.02]</td>\n",
       "    </tr>\n",
       "    <tr>\n",
       "      <th>2</th>\n",
       "      <td>(950.702, 2058.07]</td>\n",
       "    </tr>\n",
       "    <tr>\n",
       "      <th>4</th>\n",
       "      <td>(255.176, 497.076]</td>\n",
       "    </tr>\n",
       "    <tr>\n",
       "      <th>6</th>\n",
       "      <td>(2.899, 255.176]</td>\n",
       "    </tr>\n",
       "    <tr>\n",
       "      <th>16</th>\n",
       "      <td>(497.076, 950.702]</td>\n",
       "    </tr>\n",
       "  </tbody>\n",
       "</table>\n",
       "</div>"
      ],
      "text/plain": [
       "           Monetary_Band\n",
       "1   (2058.07, 279489.02]\n",
       "2     (950.702, 2058.07]\n",
       "4     (255.176, 497.076]\n",
       "6       (2.899, 255.176]\n",
       "16    (497.076, 950.702]"
      ]
     },
     "execution_count": 36,
     "metadata": {},
     "output_type": "execute_result"
    }
   ],
   "source": [
    "#Create Bins for monetary values\n",
    "unique_monetary = df3[['Monetary']].drop_duplicates()\n",
    "unique_monetary = unique_monetary[unique_monetary['Monetary'] > 0]\n",
    "unique_monetary['Monetary_Band'] = pd.qcut(unique_monetary['Monetary'], 5)\n",
    "unique_monetary = unique_monetary[['Monetary_Band']].drop_duplicates()\n",
    "unique_monetary"
   ]
  },
  {
   "cell_type": "code",
   "execution_count": 37,
   "metadata": {
    "collapsed": true
   },
   "outputs": [],
   "source": [
    "#Assign the monetary score to transactions by binning the monetary values, 5 being the highest and 1 lowest\n",
    "def f(row):\n",
    "    if row['Monetary'] <= 255.176:\n",
    "        val = 1\n",
    "    elif row['Monetary'] > 255.176 and row['Monetary'] <= 497.076:\n",
    "        val = 2\n",
    "    elif row['Monetary'] > 497.076 and row['Monetary'] <= 950.702:\n",
    "        val = 3\n",
    "    elif row['Monetary'] > 950.702 and row['Monetary'] <= 2058.07:\n",
    "        val = 4\n",
    "    else:\n",
    "        val = 5\n",
    "    return val\n",
    "\n",
    "df3['Monetary_Score'] = df3.apply(f, axis = 1)"
   ]
  },
  {
   "cell_type": "code",
   "execution_count": 38,
   "metadata": {},
   "outputs": [
    {
     "data": {
      "text/html": [
       "<div>\n",
       "<style>\n",
       "    .dataframe thead tr:only-child th {\n",
       "        text-align: right;\n",
       "    }\n",
       "\n",
       "    .dataframe thead th {\n",
       "        text-align: left;\n",
       "    }\n",
       "\n",
       "    .dataframe tbody tr th {\n",
       "        vertical-align: top;\n",
       "    }\n",
       "</style>\n",
       "<table border=\"1\" class=\"dataframe\">\n",
       "  <thead>\n",
       "    <tr style=\"text-align: right;\">\n",
       "      <th></th>\n",
       "      <th>CustomerID</th>\n",
       "      <th>RDate</th>\n",
       "      <th>Frequency</th>\n",
       "      <th>Product</th>\n",
       "      <th>TDate</th>\n",
       "      <th>Monetary</th>\n",
       "      <th>Max_Date</th>\n",
       "      <th>Recency</th>\n",
       "      <th>Tenure</th>\n",
       "      <th>Recency_Score</th>\n",
       "      <th>Frequency_Score</th>\n",
       "      <th>Monetary_Score</th>\n",
       "    </tr>\n",
       "  </thead>\n",
       "  <tbody>\n",
       "    <tr>\n",
       "      <th>0</th>\n",
       "      <td>12346</td>\n",
       "      <td>2011-01-18</td>\n",
       "      <td>2</td>\n",
       "      <td>1</td>\n",
       "      <td>2011-01-18</td>\n",
       "      <td>0.00</td>\n",
       "      <td>2011-12-30</td>\n",
       "      <td>346.0</td>\n",
       "      <td>346.0</td>\n",
       "      <td>1</td>\n",
       "      <td>1</td>\n",
       "      <td>1</td>\n",
       "    </tr>\n",
       "    <tr>\n",
       "      <th>1</th>\n",
       "      <td>12347</td>\n",
       "      <td>2011-12-07</td>\n",
       "      <td>7</td>\n",
       "      <td>103</td>\n",
       "      <td>2010-12-07</td>\n",
       "      <td>4310.00</td>\n",
       "      <td>2011-12-30</td>\n",
       "      <td>23.0</td>\n",
       "      <td>388.0</td>\n",
       "      <td>5</td>\n",
       "      <td>1</td>\n",
       "      <td>5</td>\n",
       "    </tr>\n",
       "    <tr>\n",
       "      <th>2</th>\n",
       "      <td>12348</td>\n",
       "      <td>2011-09-25</td>\n",
       "      <td>4</td>\n",
       "      <td>22</td>\n",
       "      <td>2010-12-16</td>\n",
       "      <td>1797.24</td>\n",
       "      <td>2011-12-30</td>\n",
       "      <td>96.0</td>\n",
       "      <td>379.0</td>\n",
       "      <td>4</td>\n",
       "      <td>1</td>\n",
       "      <td>4</td>\n",
       "    </tr>\n",
       "    <tr>\n",
       "      <th>3</th>\n",
       "      <td>12349</td>\n",
       "      <td>2011-11-21</td>\n",
       "      <td>1</td>\n",
       "      <td>73</td>\n",
       "      <td>2011-11-21</td>\n",
       "      <td>1757.55</td>\n",
       "      <td>2011-12-30</td>\n",
       "      <td>39.0</td>\n",
       "      <td>39.0</td>\n",
       "      <td>5</td>\n",
       "      <td>1</td>\n",
       "      <td>4</td>\n",
       "    </tr>\n",
       "    <tr>\n",
       "      <th>4</th>\n",
       "      <td>12350</td>\n",
       "      <td>2011-02-02</td>\n",
       "      <td>1</td>\n",
       "      <td>17</td>\n",
       "      <td>2011-02-02</td>\n",
       "      <td>334.40</td>\n",
       "      <td>2011-12-30</td>\n",
       "      <td>331.0</td>\n",
       "      <td>331.0</td>\n",
       "      <td>1</td>\n",
       "      <td>1</td>\n",
       "      <td>2</td>\n",
       "    </tr>\n",
       "  </tbody>\n",
       "</table>\n",
       "</div>"
      ],
      "text/plain": [
       "  CustomerID      RDate  Frequency  Product      TDate  Monetary   Max_Date  \\\n",
       "0      12346 2011-01-18          2        1 2011-01-18      0.00 2011-12-30   \n",
       "1      12347 2011-12-07          7      103 2010-12-07   4310.00 2011-12-30   \n",
       "2      12348 2011-09-25          4       22 2010-12-16   1797.24 2011-12-30   \n",
       "3      12349 2011-11-21          1       73 2011-11-21   1757.55 2011-12-30   \n",
       "4      12350 2011-02-02          1       17 2011-02-02    334.40 2011-12-30   \n",
       "\n",
       "   Recency  Tenure  Recency_Score  Frequency_Score  Monetary_Score  \n",
       "0    346.0   346.0              1                1               1  \n",
       "1     23.0   388.0              5                1               5  \n",
       "2     96.0   379.0              4                1               4  \n",
       "3     39.0    39.0              5                1               4  \n",
       "4    331.0   331.0              1                1               2  "
      ]
     },
     "execution_count": 38,
     "metadata": {},
     "output_type": "execute_result"
    }
   ],
   "source": [
    "df3.head()"
   ]
  },
  {
   "cell_type": "code",
   "execution_count": 39,
   "metadata": {},
   "outputs": [
    {
     "data": {
      "image/png": "[encoded data removed]",
      "text/plain": [
       "<matplotlib.figure.Figure at 0x17679f9ba58>"
      ]
     },
     "metadata": {},
     "output_type": "display_data"
    }
   ],
   "source": [
    "#Plot the frequency of monetary Score\n",
    "plt.figure(figsize=(12,8))\n",
    "sns.countplot(x=\"Monetary_Score\", data=df3, color=color[1])\n",
    "plt.ylabel('Count', fontsize=12)\n",
    "plt.xlabel('Monetary_Score', fontsize=12)\n",
    "plt.xticks(rotation='vertical')\n",
    "plt.title(\"Frequency of Monetary_Score\", fontsize=15)\n",
    "plt.show()"
   ]
  },
  {
   "cell_type": "code",
   "execution_count": 40,
   "metadata": {},
   "outputs": [
    {
     "data": {
      "text/html": [
       "<div>\n",
       "<style>\n",
       "    .dataframe thead tr:only-child th {\n",
       "        text-align: right;\n",
       "    }\n",
       "\n",
       "    .dataframe thead th {\n",
       "        text-align: left;\n",
       "    }\n",
       "\n",
       "    .dataframe tbody tr th {\n",
       "        vertical-align: top;\n",
       "    }\n",
       "</style>\n",
       "<table border=\"1\" class=\"dataframe\">\n",
       "  <thead>\n",
       "    <tr style=\"text-align: right;\">\n",
       "      <th></th>\n",
       "      <th>CustomerID</th>\n",
       "      <th>Recency_Score</th>\n",
       "      <th>Frequency_Score</th>\n",
       "      <th>Monetary_Score</th>\n",
       "    </tr>\n",
       "  </thead>\n",
       "  <tbody>\n",
       "    <tr>\n",
       "      <th>0</th>\n",
       "      <td>12346</td>\n",
       "      <td>1</td>\n",
       "      <td>1</td>\n",
       "      <td>1</td>\n",
       "    </tr>\n",
       "    <tr>\n",
       "      <th>1</th>\n",
       "      <td>12347</td>\n",
       "      <td>5</td>\n",
       "      <td>1</td>\n",
       "      <td>5</td>\n",
       "    </tr>\n",
       "    <tr>\n",
       "      <th>2</th>\n",
       "      <td>12348</td>\n",
       "      <td>4</td>\n",
       "      <td>1</td>\n",
       "      <td>4</td>\n",
       "    </tr>\n",
       "    <tr>\n",
       "      <th>3</th>\n",
       "      <td>12349</td>\n",
       "      <td>5</td>\n",
       "      <td>1</td>\n",
       "      <td>4</td>\n",
       "    </tr>\n",
       "    <tr>\n",
       "      <th>4</th>\n",
       "      <td>12350</td>\n",
       "      <td>1</td>\n",
       "      <td>1</td>\n",
       "      <td>2</td>\n",
       "    </tr>\n",
       "    <tr>\n",
       "      <th>5</th>\n",
       "      <td>12352</td>\n",
       "      <td>5</td>\n",
       "      <td>1</td>\n",
       "      <td>4</td>\n",
       "    </tr>\n",
       "    <tr>\n",
       "      <th>6</th>\n",
       "      <td>12353</td>\n",
       "      <td>1</td>\n",
       "      <td>1</td>\n",
       "      <td>1</td>\n",
       "    </tr>\n",
       "    <tr>\n",
       "      <th>7</th>\n",
       "      <td>12354</td>\n",
       "      <td>1</td>\n",
       "      <td>1</td>\n",
       "      <td>4</td>\n",
       "    </tr>\n",
       "    <tr>\n",
       "      <th>8</th>\n",
       "      <td>12355</td>\n",
       "      <td>1</td>\n",
       "      <td>1</td>\n",
       "      <td>2</td>\n",
       "    </tr>\n",
       "    <tr>\n",
       "      <th>9</th>\n",
       "      <td>12356</td>\n",
       "      <td>5</td>\n",
       "      <td>1</td>\n",
       "      <td>5</td>\n",
       "    </tr>\n",
       "  </tbody>\n",
       "</table>\n",
       "</div>"
      ],
      "text/plain": [
       "  CustomerID  Recency_Score  Frequency_Score  Monetary_Score\n",
       "0      12346              1                1               1\n",
       "1      12347              5                1               5\n",
       "2      12348              4                1               4\n",
       "3      12349              5                1               4\n",
       "4      12350              1                1               2\n",
       "5      12352              5                1               4\n",
       "6      12353              1                1               1\n",
       "7      12354              1                1               4\n",
       "8      12355              1                1               2\n",
       "9      12356              5                1               5"
      ]
     },
     "execution_count": 40,
     "metadata": {},
     "output_type": "execute_result"
    }
   ],
   "source": [
    "#Combined score of all the transactions\n",
    "df3.iloc[:, [0,9,10,11]].head(10)"
   ]
  }
 ],
 "metadata": {
  "kernelspec": {
   "display_name": "Python 3",
   "language": "python",
   "name": "python3"
  },
  "language_info": {
   "codemirror_mode": {
    "name": "ipython",
    "version": 3
   },
   "file_extension": ".py",
   "mimetype": "text/x-python",
   "name": "python",
   "nbconvert_exporter": "python",
   "pygments_lexer": "ipython3",
   "version": "3.6.1"
  }
 },
 "nbformat": 4,
 "nbformat_minor": 2
}
